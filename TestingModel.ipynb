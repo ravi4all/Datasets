{
 "cells": [
  {
   "cell_type": "code",
   "execution_count": 1,
   "id": "c17dd6bd",
   "metadata": {},
   "outputs": [],
   "source": [
    "import pandas as pd\n",
    "import pickle as pkl"
   ]
  },
  {
   "cell_type": "code",
   "execution_count": 2,
   "id": "ca96b8cc",
   "metadata": {},
   "outputs": [],
   "source": [
    "def loadFile(filename):\n",
    "    file = open(filename, \"rb\")\n",
    "    obj = pkl.load(file)\n",
    "    file.close\n",
    "    return obj"
   ]
  },
  {
   "cell_type": "code",
   "execution_count": 3,
   "id": "48e507f1",
   "metadata": {},
   "outputs": [],
   "source": [
    "model = loadFile(\"model.pkl\")\n",
    "minmax = loadFile(\"minmax.pkl\")\n",
    "gender_label = loadFile(\"gender.pkl\")\n",
    "severe_label = loadFile(\"severe.pkl\")\n",
    "contact_label = loadFile(\"contact.pkl\")"
   ]
  },
  {
   "cell_type": "code",
   "execution_count": null,
   "id": "17c14307",
   "metadata": {},
   "outputs": [],
   "source": [
    "age = 30\n",
    "gender = \"Male\"\n",
    "body_pain = 0\n",
    "fever = 101\n",
    "runny_nose = 1\n",
    "breathing = 1\n",
    "nasal = 0\n",
    "sore = 1\n",
    "severity = \"Moderate\"\n",
    "contact = \"yes\""
   ]
  }
 ],
 "metadata": {
  "kernelspec": {
   "display_name": "Python 3 (ipykernel)",
   "language": "python",
   "name": "python3"
  },
  "language_info": {
   "codemirror_mode": {
    "name": "ipython",
    "version": 3
   },
   "file_extension": ".py",
   "mimetype": "text/x-python",
   "name": "python",
   "nbconvert_exporter": "python",
   "pygments_lexer": "ipython3",
   "version": "3.11.4"
  }
 },
 "nbformat": 4,
 "nbformat_minor": 5
}
